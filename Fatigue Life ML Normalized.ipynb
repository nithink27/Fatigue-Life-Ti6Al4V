{
 "cells": [
  {
   "cell_type": "code",
   "execution_count": 1,
   "id": "5dea9510",
   "metadata": {},
   "outputs": [],
   "source": [
    "import numpy as np\n",
    "import pandas as pd\n",
    "import matplotlib.pyplot as plt\n",
    "import seaborn as sns\n",
    "from sklearn.decomposition import PCA\n",
    "import xgboost as xgb\n",
    "from sklearn.ensemble import RandomForestRegressor\n",
    "from xgboost import XGBRegressor\n",
    "from sklearn.neighbors import KNeighborsRegressor\n",
    "from sklearn.ensemble import GradientBoostingRegressor\n",
    "from sklearn.model_selection import GridSearchCV\n",
    "from sklearn.metrics import mean_squared_error, mean_absolute_error , r2_score\n",
    "from sklearn.model_selection import train_test_split\n",
    "import warnings\n",
    "warnings.filterwarnings(\"ignore\")\n",
    "from sklearn.model_selection import cross_val_score\n",
    "from sklearn.svm import SVR"
   ]
  },
  {
   "cell_type": "markdown",
   "id": "cce34173",
   "metadata": {},
   "source": [
    "### Loading the overall data"
   ]
  },
  {
   "cell_type": "code",
   "execution_count": 2,
   "id": "8b960dde",
   "metadata": {},
   "outputs": [],
   "source": [
    "df = pd.read_excel('C:\\\\Users\\\\nithi\\\\OneDrive\\\\Desktop\\\\Fatigue_Data\\\\Processing Parameters\\\\Total_Data.xlsx')"
   ]
  },
  {
   "cell_type": "code",
   "execution_count": 3,
   "id": "8dc7469b",
   "metadata": {},
   "outputs": [
    {
     "data": {
      "text/html": [
       "<div>\n",
       "<style scoped>\n",
       "    .dataframe tbody tr th:only-of-type {\n",
       "        vertical-align: middle;\n",
       "    }\n",
       "\n",
       "    .dataframe tbody tr th {\n",
       "        vertical-align: top;\n",
       "    }\n",
       "\n",
       "    .dataframe thead th {\n",
       "        text-align: right;\n",
       "    }\n",
       "</style>\n",
       "<table border=\"1\" class=\"dataframe\">\n",
       "  <thead>\n",
       "    <tr style=\"text-align: right;\">\n",
       "      <th></th>\n",
       "      <th>Power</th>\n",
       "      <th>Layer thickness</th>\n",
       "      <th>Scan Velocity</th>\n",
       "      <th>Hatch Spacing</th>\n",
       "      <th>Stress Amplitude (Mpa)</th>\n",
       "      <th>No of Cycles (N)</th>\n",
       "      <th>Log Scale</th>\n",
       "    </tr>\n",
       "  </thead>\n",
       "  <tbody>\n",
       "    <tr>\n",
       "      <th>0</th>\n",
       "      <td>120</td>\n",
       "      <td>30</td>\n",
       "      <td>1200</td>\n",
       "      <td>0.07</td>\n",
       "      <td>290.0</td>\n",
       "      <td>127000</td>\n",
       "      <td>5.103804</td>\n",
       "    </tr>\n",
       "    <tr>\n",
       "      <th>1</th>\n",
       "      <td>120</td>\n",
       "      <td>30</td>\n",
       "      <td>1200</td>\n",
       "      <td>0.07</td>\n",
       "      <td>232.0</td>\n",
       "      <td>231000</td>\n",
       "      <td>5.363612</td>\n",
       "    </tr>\n",
       "    <tr>\n",
       "      <th>2</th>\n",
       "      <td>120</td>\n",
       "      <td>30</td>\n",
       "      <td>1200</td>\n",
       "      <td>0.07</td>\n",
       "      <td>204.0</td>\n",
       "      <td>224000</td>\n",
       "      <td>5.350248</td>\n",
       "    </tr>\n",
       "    <tr>\n",
       "      <th>3</th>\n",
       "      <td>120</td>\n",
       "      <td>30</td>\n",
       "      <td>1200</td>\n",
       "      <td>0.07</td>\n",
       "      <td>232.0</td>\n",
       "      <td>366000</td>\n",
       "      <td>5.563481</td>\n",
       "    </tr>\n",
       "    <tr>\n",
       "      <th>4</th>\n",
       "      <td>120</td>\n",
       "      <td>30</td>\n",
       "      <td>1200</td>\n",
       "      <td>0.07</td>\n",
       "      <td>263.0</td>\n",
       "      <td>779000</td>\n",
       "      <td>5.891537</td>\n",
       "    </tr>\n",
       "  </tbody>\n",
       "</table>\n",
       "</div>"
      ],
      "text/plain": [
       "   Power  Layer thickness  Scan Velocity  Hatch Spacing  \\\n",
       "0    120               30           1200           0.07   \n",
       "1    120               30           1200           0.07   \n",
       "2    120               30           1200           0.07   \n",
       "3    120               30           1200           0.07   \n",
       "4    120               30           1200           0.07   \n",
       "\n",
       "   Stress Amplitude (Mpa)  No of Cycles (N)  Log Scale  \n",
       "0                   290.0            127000   5.103804  \n",
       "1                   232.0            231000   5.363612  \n",
       "2                   204.0            224000   5.350248  \n",
       "3                   232.0            366000   5.563481  \n",
       "4                   263.0            779000   5.891537  "
      ]
     },
     "execution_count": 3,
     "metadata": {},
     "output_type": "execute_result"
    }
   ],
   "source": [
    "df.head()"
   ]
  },
  {
   "cell_type": "markdown",
   "id": "66e2e799",
   "metadata": {},
   "source": [
    "#### Checking the value counts of each of the columns"
   ]
  },
  {
   "cell_type": "code",
   "execution_count": 4,
   "id": "12eae27f",
   "metadata": {},
   "outputs": [
    {
     "data": {
      "text/plain": [
       "160    54\n",
       "120    37\n",
       "200    34\n",
       "Name: Power, dtype: int64"
      ]
     },
     "execution_count": 4,
     "metadata": {},
     "output_type": "execute_result"
    }
   ],
   "source": [
    "df['Power'].value_counts()"
   ]
  },
  {
   "cell_type": "code",
   "execution_count": 5,
   "id": "f95196b3",
   "metadata": {},
   "outputs": [
    {
     "data": {
      "text/plain": [
       "30    57\n",
       "45    41\n",
       "60    27\n",
       "Name: Layer thickness, dtype: int64"
      ]
     },
     "execution_count": 5,
     "metadata": {},
     "output_type": "execute_result"
    }
   ],
   "source": [
    "df['Layer thickness'].value_counts()"
   ]
  },
  {
   "cell_type": "code",
   "execution_count": 6,
   "id": "701de277",
   "metadata": {},
   "outputs": [
    {
     "data": {
      "text/plain": [
       "1000    59\n",
       "800     34\n",
       "1200    32\n",
       "Name: Scan Velocity, dtype: int64"
      ]
     },
     "execution_count": 6,
     "metadata": {},
     "output_type": "execute_result"
    }
   ],
   "source": [
    "df['Scan Velocity'].value_counts()"
   ]
  },
  {
   "cell_type": "code",
   "execution_count": 7,
   "id": "a2c4673a",
   "metadata": {},
   "outputs": [
    {
     "data": {
      "text/plain": [
       "0.07    54\n",
       "0.10    36\n",
       "0.13    35\n",
       "Name: Hatch Spacing, dtype: int64"
      ]
     },
     "execution_count": 7,
     "metadata": {},
     "output_type": "execute_result"
    }
   ],
   "source": [
    "df['Hatch Spacing'].value_counts()"
   ]
  },
  {
   "cell_type": "code",
   "execution_count": 8,
   "id": "a92de887",
   "metadata": {},
   "outputs": [
    {
     "data": {
      "text/html": [
       "<div>\n",
       "<style scoped>\n",
       "    .dataframe tbody tr th:only-of-type {\n",
       "        vertical-align: middle;\n",
       "    }\n",
       "\n",
       "    .dataframe tbody tr th {\n",
       "        vertical-align: top;\n",
       "    }\n",
       "\n",
       "    .dataframe thead th {\n",
       "        text-align: right;\n",
       "    }\n",
       "</style>\n",
       "<table border=\"1\" class=\"dataframe\">\n",
       "  <thead>\n",
       "    <tr style=\"text-align: right;\">\n",
       "      <th></th>\n",
       "      <th>Power</th>\n",
       "      <th>Layer thickness</th>\n",
       "      <th>Scan Velocity</th>\n",
       "      <th>Hatch Spacing</th>\n",
       "      <th>Stress Amplitude (Mpa)</th>\n",
       "      <th>No of Cycles (N)</th>\n",
       "      <th>Log Scale</th>\n",
       "    </tr>\n",
       "  </thead>\n",
       "  <tbody>\n",
       "    <tr>\n",
       "      <th>Power</th>\n",
       "      <td>1.000000</td>\n",
       "      <td>0.003794</td>\n",
       "      <td>-0.044559</td>\n",
       "      <td>0.058143</td>\n",
       "      <td>0.232488</td>\n",
       "      <td>0.012096</td>\n",
       "      <td>-0.044622</td>\n",
       "    </tr>\n",
       "    <tr>\n",
       "      <th>Layer thickness</th>\n",
       "      <td>0.003794</td>\n",
       "      <td>1.000000</td>\n",
       "      <td>-0.020793</td>\n",
       "      <td>0.140674</td>\n",
       "      <td>-0.595776</td>\n",
       "      <td>-0.196688</td>\n",
       "      <td>-0.252598</td>\n",
       "    </tr>\n",
       "    <tr>\n",
       "      <th>Scan Velocity</th>\n",
       "      <td>-0.044559</td>\n",
       "      <td>-0.020793</td>\n",
       "      <td>1.000000</td>\n",
       "      <td>0.049038</td>\n",
       "      <td>-0.115484</td>\n",
       "      <td>-0.011247</td>\n",
       "      <td>-0.083557</td>\n",
       "    </tr>\n",
       "    <tr>\n",
       "      <th>Hatch Spacing</th>\n",
       "      <td>0.058143</td>\n",
       "      <td>0.140674</td>\n",
       "      <td>0.049038</td>\n",
       "      <td>1.000000</td>\n",
       "      <td>-0.393804</td>\n",
       "      <td>-0.021805</td>\n",
       "      <td>0.027278</td>\n",
       "    </tr>\n",
       "    <tr>\n",
       "      <th>Stress Amplitude (Mpa)</th>\n",
       "      <td>0.232488</td>\n",
       "      <td>-0.595776</td>\n",
       "      <td>-0.115484</td>\n",
       "      <td>-0.393804</td>\n",
       "      <td>1.000000</td>\n",
       "      <td>-0.153485</td>\n",
       "      <td>-0.299385</td>\n",
       "    </tr>\n",
       "    <tr>\n",
       "      <th>No of Cycles (N)</th>\n",
       "      <td>0.012096</td>\n",
       "      <td>-0.196688</td>\n",
       "      <td>-0.011247</td>\n",
       "      <td>-0.021805</td>\n",
       "      <td>-0.153485</td>\n",
       "      <td>1.000000</td>\n",
       "      <td>0.737256</td>\n",
       "    </tr>\n",
       "    <tr>\n",
       "      <th>Log Scale</th>\n",
       "      <td>-0.044622</td>\n",
       "      <td>-0.252598</td>\n",
       "      <td>-0.083557</td>\n",
       "      <td>0.027278</td>\n",
       "      <td>-0.299385</td>\n",
       "      <td>0.737256</td>\n",
       "      <td>1.000000</td>\n",
       "    </tr>\n",
       "  </tbody>\n",
       "</table>\n",
       "</div>"
      ],
      "text/plain": [
       "                           Power  Layer thickness  Scan Velocity  \\\n",
       "Power                   1.000000         0.003794      -0.044559   \n",
       "Layer thickness         0.003794         1.000000      -0.020793   \n",
       "Scan Velocity          -0.044559        -0.020793       1.000000   \n",
       "Hatch Spacing           0.058143         0.140674       0.049038   \n",
       "Stress Amplitude (Mpa)  0.232488        -0.595776      -0.115484   \n",
       "No of Cycles (N)        0.012096        -0.196688      -0.011247   \n",
       "Log Scale              -0.044622        -0.252598      -0.083557   \n",
       "\n",
       "                        Hatch Spacing  Stress Amplitude (Mpa)  \\\n",
       "Power                        0.058143                0.232488   \n",
       "Layer thickness              0.140674               -0.595776   \n",
       "Scan Velocity                0.049038               -0.115484   \n",
       "Hatch Spacing                1.000000               -0.393804   \n",
       "Stress Amplitude (Mpa)      -0.393804                1.000000   \n",
       "No of Cycles (N)            -0.021805               -0.153485   \n",
       "Log Scale                    0.027278               -0.299385   \n",
       "\n",
       "                        No of Cycles (N)  Log Scale  \n",
       "Power                           0.012096  -0.044622  \n",
       "Layer thickness                -0.196688  -0.252598  \n",
       "Scan Velocity                  -0.011247  -0.083557  \n",
       "Hatch Spacing                  -0.021805   0.027278  \n",
       "Stress Amplitude (Mpa)         -0.153485  -0.299385  \n",
       "No of Cycles (N)                1.000000   0.737256  \n",
       "Log Scale                       0.737256   1.000000  "
      ]
     },
     "execution_count": 8,
     "metadata": {},
     "output_type": "execute_result"
    }
   ],
   "source": [
    "df.corr()"
   ]
  },
  {
   "cell_type": "markdown",
   "id": "69980214",
   "metadata": {},
   "source": [
    "#### Creating a derived column from the independant processing parameters as the value counts of each of the columns are less"
   ]
  },
  {
   "cell_type": "code",
   "execution_count": 9,
   "id": "a9e35e34",
   "metadata": {},
   "outputs": [],
   "source": [
    "df['Energy'] = 1000*df['Power']/(df['Layer thickness']*df['Scan Velocity']*df['Hatch Spacing'])"
   ]
  },
  {
   "cell_type": "markdown",
   "id": "29d157c6",
   "metadata": {},
   "source": [
    "#### Considering the only columns which are useful for the predictions of fatigue life. Normalized the Fatigue life variable to log Scale"
   ]
  },
  {
   "cell_type": "code",
   "execution_count": 10,
   "id": "7075d0cd",
   "metadata": {},
   "outputs": [
    {
     "data": {
      "text/html": [
       "<div>\n",
       "<style scoped>\n",
       "    .dataframe tbody tr th:only-of-type {\n",
       "        vertical-align: middle;\n",
       "    }\n",
       "\n",
       "    .dataframe tbody tr th {\n",
       "        vertical-align: top;\n",
       "    }\n",
       "\n",
       "    .dataframe thead th {\n",
       "        text-align: right;\n",
       "    }\n",
       "</style>\n",
       "<table border=\"1\" class=\"dataframe\">\n",
       "  <thead>\n",
       "    <tr style=\"text-align: right;\">\n",
       "      <th></th>\n",
       "      <th>Energy</th>\n",
       "      <th>Stress Amplitude (Mpa)</th>\n",
       "      <th>Log Scale</th>\n",
       "    </tr>\n",
       "  </thead>\n",
       "  <tbody>\n",
       "    <tr>\n",
       "      <th>0</th>\n",
       "      <td>47.619048</td>\n",
       "      <td>290.0</td>\n",
       "      <td>5.103804</td>\n",
       "    </tr>\n",
       "    <tr>\n",
       "      <th>1</th>\n",
       "      <td>47.619048</td>\n",
       "      <td>232.0</td>\n",
       "      <td>5.363612</td>\n",
       "    </tr>\n",
       "    <tr>\n",
       "      <th>2</th>\n",
       "      <td>47.619048</td>\n",
       "      <td>204.0</td>\n",
       "      <td>5.350248</td>\n",
       "    </tr>\n",
       "    <tr>\n",
       "      <th>3</th>\n",
       "      <td>47.619048</td>\n",
       "      <td>232.0</td>\n",
       "      <td>5.563481</td>\n",
       "    </tr>\n",
       "    <tr>\n",
       "      <th>4</th>\n",
       "      <td>47.619048</td>\n",
       "      <td>263.0</td>\n",
       "      <td>5.891537</td>\n",
       "    </tr>\n",
       "    <tr>\n",
       "      <th>...</th>\n",
       "      <td>...</td>\n",
       "      <td>...</td>\n",
       "      <td>...</td>\n",
       "    </tr>\n",
       "    <tr>\n",
       "      <th>120</th>\n",
       "      <td>28.490028</td>\n",
       "      <td>130.0</td>\n",
       "      <td>7.418301</td>\n",
       "    </tr>\n",
       "    <tr>\n",
       "      <th>121</th>\n",
       "      <td>28.490028</td>\n",
       "      <td>130.0</td>\n",
       "      <td>7.746634</td>\n",
       "    </tr>\n",
       "    <tr>\n",
       "      <th>122</th>\n",
       "      <td>28.490028</td>\n",
       "      <td>135.0</td>\n",
       "      <td>7.904174</td>\n",
       "    </tr>\n",
       "    <tr>\n",
       "      <th>123</th>\n",
       "      <td>28.490028</td>\n",
       "      <td>130.0</td>\n",
       "      <td>8.532754</td>\n",
       "    </tr>\n",
       "    <tr>\n",
       "      <th>124</th>\n",
       "      <td>28.490028</td>\n",
       "      <td>130.0</td>\n",
       "      <td>8.846955</td>\n",
       "    </tr>\n",
       "  </tbody>\n",
       "</table>\n",
       "<p>125 rows × 3 columns</p>\n",
       "</div>"
      ],
      "text/plain": [
       "        Energy  Stress Amplitude (Mpa)  Log Scale\n",
       "0    47.619048                   290.0   5.103804\n",
       "1    47.619048                   232.0   5.363612\n",
       "2    47.619048                   204.0   5.350248\n",
       "3    47.619048                   232.0   5.563481\n",
       "4    47.619048                   263.0   5.891537\n",
       "..         ...                     ...        ...\n",
       "120  28.490028                   130.0   7.418301\n",
       "121  28.490028                   130.0   7.746634\n",
       "122  28.490028                   135.0   7.904174\n",
       "123  28.490028                   130.0   8.532754\n",
       "124  28.490028                   130.0   8.846955\n",
       "\n",
       "[125 rows x 3 columns]"
      ]
     },
     "execution_count": 10,
     "metadata": {},
     "output_type": "execute_result"
    }
   ],
   "source": [
    "Total_Data = df.loc[:,['Energy','Stress Amplitude (Mpa)','Log Scale']]\n",
    "Total_Data"
   ]
  },
  {
   "cell_type": "code",
   "execution_count": 11,
   "id": "7338662c",
   "metadata": {
    "scrolled": true
   },
   "outputs": [
    {
     "data": {
      "text/plain": [
       "76.190476    19\n",
       "26.666667    16\n",
       "41.025641    14\n",
       "63.492063    13\n",
       "28.490028    12\n",
       "47.619048    12\n",
       "83.333333    12\n",
       "47.619048    10\n",
       "19.230769     9\n",
       "22.222222     8\n",
       "Name: Energy, dtype: int64"
      ]
     },
     "execution_count": 11,
     "metadata": {},
     "output_type": "execute_result"
    }
   ],
   "source": [
    "Total_Data['Energy'].value_counts()"
   ]
  },
  {
   "cell_type": "markdown",
   "id": "18d67b41",
   "metadata": {},
   "source": [
    "### Z Score Normalization"
   ]
  },
  {
   "cell_type": "code",
   "execution_count": 12,
   "id": "b2a3c8a8",
   "metadata": {},
   "outputs": [],
   "source": [
    "Total_Data['Energy'] = (Total_Data['Energy'] - Total_Data['Energy'].mean())/(Total_Data['Energy'].std())"
   ]
  },
  {
   "cell_type": "code",
   "execution_count": 13,
   "id": "3204ae18",
   "metadata": {},
   "outputs": [
    {
     "data": {
      "text/plain": [
       "0     -0.022842\n",
       "1     -0.022842\n",
       "2     -0.022842\n",
       "3     -0.022842\n",
       "4     -0.022842\n",
       "         ...   \n",
       "120   -0.903554\n",
       "121   -0.903554\n",
       "122   -0.903554\n",
       "123   -0.903554\n",
       "124   -0.903554\n",
       "Name: Energy, Length: 125, dtype: float64"
      ]
     },
     "execution_count": 13,
     "metadata": {},
     "output_type": "execute_result"
    }
   ],
   "source": [
    "Total_Data['Energy']"
   ]
  },
  {
   "cell_type": "code",
   "execution_count": 14,
   "id": "a2464d67",
   "metadata": {},
   "outputs": [],
   "source": [
    "Total_Data['Stress Amplitude (Mpa)'] = (Total_Data['Stress Amplitude (Mpa)'] - Total_Data['Stress Amplitude (Mpa)'].mean())/(Total_Data['Stress Amplitude (Mpa)'].std())"
   ]
  },
  {
   "cell_type": "code",
   "execution_count": 15,
   "id": "941771cc",
   "metadata": {},
   "outputs": [
    {
     "data": {
      "text/plain": [
       "0      1.459673\n",
       "1      0.601821\n",
       "2      0.187686\n",
       "3      0.601821\n",
       "4      1.060328\n",
       "         ...   \n",
       "120   -0.906814\n",
       "121   -0.906814\n",
       "122   -0.832861\n",
       "123   -0.906814\n",
       "124   -0.906814\n",
       "Name: Stress Amplitude (Mpa), Length: 125, dtype: float64"
      ]
     },
     "execution_count": 15,
     "metadata": {},
     "output_type": "execute_result"
    }
   ],
   "source": [
    "Total_Data['Stress Amplitude (Mpa)']"
   ]
  },
  {
   "cell_type": "code",
   "execution_count": 16,
   "id": "cb86f781",
   "metadata": {},
   "outputs": [
    {
     "data": {
      "text/plain": [
       "Energy                    0\n",
       "Stress Amplitude (Mpa)    0\n",
       "Log Scale                 0\n",
       "dtype: int64"
      ]
     },
     "execution_count": 16,
     "metadata": {},
     "output_type": "execute_result"
    }
   ],
   "source": [
    "Total_Data.isnull().sum()"
   ]
  },
  {
   "cell_type": "code",
   "execution_count": 17,
   "id": "fb6a1f54",
   "metadata": {},
   "outputs": [
    {
     "data": {
      "text/plain": [
       "<AxesSubplot:xlabel='Stress Amplitude (Mpa)', ylabel='Density'>"
      ]
     },
     "execution_count": 17,
     "metadata": {},
     "output_type": "execute_result"
    },
    {
     "data": {
      "image/png": "[encoded data removed]",
      "text/plain": [
       "<Figure size 432x288 with 1 Axes>"
      ]
     },
     "metadata": {
      "needs_background": "light"
     },
     "output_type": "display_data"
    }
   ],
   "source": [
    "sns.distplot(Total_Data['Stress Amplitude (Mpa)'])"
   ]
  },
  {
   "cell_type": "code",
   "execution_count": 18,
   "id": "db074b96",
   "metadata": {},
   "outputs": [
    {
     "data": {
      "text/plain": [
       "<AxesSubplot:xlabel='Energy', ylabel='Density'>"
      ]
     },
     "execution_count": 18,
     "metadata": {},
     "output_type": "execute_result"
    },
    {
     "data": {
      "image/png": "[encoded data removed]",
      "text/plain": [
       "<Figure size 432x288 with 1 Axes>"
      ]
     },
     "metadata": {
      "needs_background": "light"
     },
     "output_type": "display_data"
    }
   ],
   "source": [
    "sns.distplot(Total_Data['Energy'])"
   ]
  },
  {
   "cell_type": "markdown",
   "id": "80ed8d2d",
   "metadata": {},
   "source": [
    "#### Checking for corretaion between the columns "
   ]
  },
  {
   "cell_type": "code",
   "execution_count": 19,
   "id": "9b9d7689",
   "metadata": {},
   "outputs": [
    {
     "data": {
      "text/html": [
       "<div>\n",
       "<style scoped>\n",
       "    .dataframe tbody tr th:only-of-type {\n",
       "        vertical-align: middle;\n",
       "    }\n",
       "\n",
       "    .dataframe tbody tr th {\n",
       "        vertical-align: top;\n",
       "    }\n",
       "\n",
       "    .dataframe thead th {\n",
       "        text-align: right;\n",
       "    }\n",
       "</style>\n",
       "<table border=\"1\" class=\"dataframe\">\n",
       "  <thead>\n",
       "    <tr style=\"text-align: right;\">\n",
       "      <th></th>\n",
       "      <th>Energy</th>\n",
       "      <th>Stress Amplitude (Mpa)</th>\n",
       "      <th>Log Scale</th>\n",
       "    </tr>\n",
       "  </thead>\n",
       "  <tbody>\n",
       "    <tr>\n",
       "      <th>Energy</th>\n",
       "      <td>1.000000</td>\n",
       "      <td>0.742589</td>\n",
       "      <td>0.126992</td>\n",
       "    </tr>\n",
       "    <tr>\n",
       "      <th>Stress Amplitude (Mpa)</th>\n",
       "      <td>0.742589</td>\n",
       "      <td>1.000000</td>\n",
       "      <td>-0.299385</td>\n",
       "    </tr>\n",
       "    <tr>\n",
       "      <th>Log Scale</th>\n",
       "      <td>0.126992</td>\n",
       "      <td>-0.299385</td>\n",
       "      <td>1.000000</td>\n",
       "    </tr>\n",
       "  </tbody>\n",
       "</table>\n",
       "</div>"
      ],
      "text/plain": [
       "                          Energy  Stress Amplitude (Mpa)  Log Scale\n",
       "Energy                  1.000000                0.742589   0.126992\n",
       "Stress Amplitude (Mpa)  0.742589                1.000000  -0.299385\n",
       "Log Scale               0.126992               -0.299385   1.000000"
      ]
     },
     "execution_count": 19,
     "metadata": {},
     "output_type": "execute_result"
    }
   ],
   "source": [
    "Total_Data.corr()"
   ]
  },
  {
   "cell_type": "code",
   "execution_count": 20,
   "id": "b8d04726",
   "metadata": {},
   "outputs": [
    {
     "data": {
      "text/plain": [
       "<seaborn.axisgrid.PairGrid at 0x24f270a08e0>"
      ]
     },
     "execution_count": 20,
     "metadata": {},
     "output_type": "execute_result"
    },
    {
     "data": {
      "image/png": "[encoded data removed]",
      "text/plain": [
       "<Figure size 540x540 with 12 Axes>"
      ]
     },
     "metadata": {
      "needs_background": "light"
     },
     "output_type": "display_data"
    }
   ],
   "source": [
    "sns.pairplot(Total_Data)"
   ]
  },
  {
   "cell_type": "code",
   "execution_count": 21,
   "id": "d7826581",
   "metadata": {},
   "outputs": [
    {
     "data": {
      "text/plain": [
       "<AxesSubplot:>"
      ]
     },
     "execution_count": 21,
     "metadata": {},
     "output_type": "execute_result"
    },
    {
     "data": {
      "image/png": "[encoded data removed]",
      "text/plain": [
       "<Figure size 432x288 with 2 Axes>"
      ]
     },
     "metadata": {
      "needs_background": "light"
     },
     "output_type": "display_data"
    }
   ],
   "source": [
    "sns.heatmap(Total_Data.corr(),annot = True)"
   ]
  },
  {
   "cell_type": "code",
   "execution_count": 22,
   "id": "d9002108",
   "metadata": {},
   "outputs": [
    {
     "data": {
      "text/plain": [
       "<AxesSubplot:>"
      ]
     },
     "execution_count": 22,
     "metadata": {},
     "output_type": "execute_result"
    },
    {
     "data": {
      "image/png": "[encoded data removed]",
      "text/plain": [
       "<Figure size 432x288 with 1 Axes>"
      ]
     },
     "metadata": {
      "needs_background": "light"
     },
     "output_type": "display_data"
    }
   ],
   "source": [
    "Total_Data['Energy'].plot.box()"
   ]
  },
  {
   "cell_type": "code",
   "execution_count": 23,
   "id": "162f0149",
   "metadata": {},
   "outputs": [
    {
     "data": {
      "text/plain": [
       "<AxesSubplot:>"
      ]
     },
     "execution_count": 23,
     "metadata": {},
     "output_type": "execute_result"
    },
    {
     "data": {
      "image/png": "[encoded data removed]",
      "text/plain": [
       "<Figure size 432x288 with 1 Axes>"
      ]
     },
     "metadata": {
      "needs_background": "light"
     },
     "output_type": "display_data"
    }
   ],
   "source": [
    "Total_Data['Stress Amplitude (Mpa)'].plot.box()"
   ]
  },
  {
   "cell_type": "code",
   "execution_count": 24,
   "id": "50d213df",
   "metadata": {},
   "outputs": [
    {
     "data": {
      "text/html": [
       "<div>\n",
       "<style scoped>\n",
       "    .dataframe tbody tr th:only-of-type {\n",
       "        vertical-align: middle;\n",
       "    }\n",
       "\n",
       "    .dataframe tbody tr th {\n",
       "        vertical-align: top;\n",
       "    }\n",
       "\n",
       "    .dataframe thead th {\n",
       "        text-align: right;\n",
       "    }\n",
       "</style>\n",
       "<table border=\"1\" class=\"dataframe\">\n",
       "  <thead>\n",
       "    <tr style=\"text-align: right;\">\n",
       "      <th></th>\n",
       "      <th>Energy</th>\n",
       "      <th>Stress Amplitude (Mpa)</th>\n",
       "      <th>Log Scale</th>\n",
       "    </tr>\n",
       "  </thead>\n",
       "  <tbody>\n",
       "    <tr>\n",
       "      <th>count</th>\n",
       "      <td>1.250000e+02</td>\n",
       "      <td>1.250000e+02</td>\n",
       "      <td>125.000000</td>\n",
       "    </tr>\n",
       "    <tr>\n",
       "      <th>mean</th>\n",
       "      <td>-1.952216e-15</td>\n",
       "      <td>2.060574e-16</td>\n",
       "      <td>6.712924</td>\n",
       "    </tr>\n",
       "    <tr>\n",
       "      <th>std</th>\n",
       "      <td>1.000000e+00</td>\n",
       "      <td>1.000000e+00</td>\n",
       "      <td>1.199457</td>\n",
       "    </tr>\n",
       "    <tr>\n",
       "      <th>min</th>\n",
       "      <td>-1.329857e+00</td>\n",
       "      <td>-1.569431e+00</td>\n",
       "      <td>4.759668</td>\n",
       "    </tr>\n",
       "    <tr>\n",
       "      <th>25%</th>\n",
       "      <td>-9.875030e-01</td>\n",
       "      <td>-8.180709e-01</td>\n",
       "      <td>5.647383</td>\n",
       "    </tr>\n",
       "    <tr>\n",
       "      <th>50%</th>\n",
       "      <td>-2.284156e-02</td>\n",
       "      <td>-2.412397e-01</td>\n",
       "      <td>6.428135</td>\n",
       "    </tr>\n",
       "    <tr>\n",
       "      <th>75%</th>\n",
       "      <td>7.079626e-01</td>\n",
       "      <td>8.680511e-01</td>\n",
       "      <td>7.988113</td>\n",
       "    </tr>\n",
       "    <tr>\n",
       "      <th>max</th>\n",
       "      <td>1.621468e+00</td>\n",
       "      <td>2.347105e+00</td>\n",
       "      <td>8.872739</td>\n",
       "    </tr>\n",
       "  </tbody>\n",
       "</table>\n",
       "</div>"
      ],
      "text/plain": [
       "             Energy  Stress Amplitude (Mpa)   Log Scale\n",
       "count  1.250000e+02            1.250000e+02  125.000000\n",
       "mean  -1.952216e-15            2.060574e-16    6.712924\n",
       "std    1.000000e+00            1.000000e+00    1.199457\n",
       "min   -1.329857e+00           -1.569431e+00    4.759668\n",
       "25%   -9.875030e-01           -8.180709e-01    5.647383\n",
       "50%   -2.284156e-02           -2.412397e-01    6.428135\n",
       "75%    7.079626e-01            8.680511e-01    7.988113\n",
       "max    1.621468e+00            2.347105e+00    8.872739"
      ]
     },
     "execution_count": 24,
     "metadata": {},
     "output_type": "execute_result"
    }
   ],
   "source": [
    "Total_Data.describe()"
   ]
  },
  {
   "cell_type": "code",
   "execution_count": 25,
   "id": "92a73046",
   "metadata": {},
   "outputs": [
    {
     "name": "stdout",
     "output_type": "stream",
     "text": [
      "Max value for outlier Energy 3.2199999999999998\n"
     ]
    }
   ],
   "source": [
    "print('Max value for outlier Energy',  0.70+1.5*(0.70+0.98))"
   ]
  },
  {
   "cell_type": "code",
   "execution_count": 26,
   "id": "d1117176",
   "metadata": {},
   "outputs": [
    {
     "name": "stdout",
     "output_type": "stream",
     "text": [
      "Max value for outlier Stress Amplitude 3.3649999999999998\n"
     ]
    }
   ],
   "source": [
    "print('Max value for outlier Stress Amplitude',  0.86+1.5*(0.86+0.81))"
   ]
  },
  {
   "cell_type": "code",
   "execution_count": 27,
   "id": "0e97d14e",
   "metadata": {},
   "outputs": [
    {
     "name": "stdout",
     "output_type": "stream",
     "text": [
      "Min value for outlier Stress Amplitude -3.315\n"
     ]
    }
   ],
   "source": [
    "print('Min value for outlier Stress Amplitude',  -0.81-1.5*(0.86+0.81))"
   ]
  },
  {
   "cell_type": "code",
   "execution_count": 28,
   "id": "91d553ff",
   "metadata": {},
   "outputs": [
    {
     "name": "stdout",
     "output_type": "stream",
     "text": [
      "Min value for outlier Energy -3.5\n"
     ]
    }
   ],
   "source": [
    "print('Min value for outlier Energy',  -0.98-1.5*(0.70+0.98))"
   ]
  },
  {
   "cell_type": "code",
   "execution_count": 29,
   "id": "4b723bc7",
   "metadata": {},
   "outputs": [
    {
     "data": {
      "text/html": [
       "<div>\n",
       "<style scoped>\n",
       "    .dataframe tbody tr th:only-of-type {\n",
       "        vertical-align: middle;\n",
       "    }\n",
       "\n",
       "    .dataframe tbody tr th {\n",
       "        vertical-align: top;\n",
       "    }\n",
       "\n",
       "    .dataframe thead th {\n",
       "        text-align: right;\n",
       "    }\n",
       "</style>\n",
       "<table border=\"1\" class=\"dataframe\">\n",
       "  <thead>\n",
       "    <tr style=\"text-align: right;\">\n",
       "      <th></th>\n",
       "      <th>Energy</th>\n",
       "      <th>Stress Amplitude (Mpa)</th>\n",
       "    </tr>\n",
       "  </thead>\n",
       "  <tbody>\n",
       "    <tr>\n",
       "      <th>0</th>\n",
       "      <td>-1.329857</td>\n",
       "      <td>-1.115854</td>\n",
       "    </tr>\n",
       "    <tr>\n",
       "      <th>1</th>\n",
       "      <td>-1.192128</td>\n",
       "      <td>-0.200566</td>\n",
       "    </tr>\n",
       "    <tr>\n",
       "      <th>2</th>\n",
       "      <td>-0.987503</td>\n",
       "      <td>-0.952110</td>\n",
       "    </tr>\n",
       "    <tr>\n",
       "      <th>3</th>\n",
       "      <td>-0.903554</td>\n",
       "      <td>-0.665235</td>\n",
       "    </tr>\n",
       "    <tr>\n",
       "      <th>4</th>\n",
       "      <td>-0.326406</td>\n",
       "      <td>0.002804</td>\n",
       "    </tr>\n",
       "    <tr>\n",
       "      <th>5</th>\n",
       "      <td>-0.022842</td>\n",
       "      <td>0.133454</td>\n",
       "    </tr>\n",
       "    <tr>\n",
       "      <th>6</th>\n",
       "      <td>-0.022842</td>\n",
       "      <td>-0.600650</td>\n",
       "    </tr>\n",
       "    <tr>\n",
       "      <th>7</th>\n",
       "      <td>0.707963</td>\n",
       "      <td>0.029541</td>\n",
       "    </tr>\n",
       "    <tr>\n",
       "      <th>8</th>\n",
       "      <td>1.292606</td>\n",
       "      <td>1.406738</td>\n",
       "    </tr>\n",
       "    <tr>\n",
       "      <th>9</th>\n",
       "      <td>1.621468</td>\n",
       "      <td>1.009794</td>\n",
       "    </tr>\n",
       "  </tbody>\n",
       "</table>\n",
       "</div>"
      ],
      "text/plain": [
       "     Energy  Stress Amplitude (Mpa)\n",
       "0 -1.329857               -1.115854\n",
       "1 -1.192128               -0.200566\n",
       "2 -0.987503               -0.952110\n",
       "3 -0.903554               -0.665235\n",
       "4 -0.326406                0.002804\n",
       "5 -0.022842                0.133454\n",
       "6 -0.022842               -0.600650\n",
       "7  0.707963                0.029541\n",
       "8  1.292606                1.406738\n",
       "9  1.621468                1.009794"
      ]
     },
     "execution_count": 29,
     "metadata": {},
     "output_type": "execute_result"
    }
   ],
   "source": [
    "Scat = Total_Data.groupby('Energy')['Stress Amplitude (Mpa)'].mean().reset_index()\n",
    "Scat"
   ]
  },
  {
   "cell_type": "code",
   "execution_count": 30,
   "id": "d580f112",
   "metadata": {},
   "outputs": [
    {
     "data": {
      "text/plain": [
       "Text(0.5, 1.0, 'Reg Plot Energy Density vs Stress Amplitude (MPa)')"
      ]
     },
     "execution_count": 30,
     "metadata": {},
     "output_type": "execute_result"
    },
    {
     "data": {
      "image/png": "[encoded data removed]",
      "text/plain": [
       "<Figure size 432x288 with 1 Axes>"
      ]
     },
     "metadata": {
      "needs_background": "light"
     },
     "output_type": "display_data"
    }
   ],
   "source": [
    "sns.regplot(Scat['Energy'],Scat['Stress Amplitude (Mpa)'])\n",
    "plt.xlabel('Energy Density')\n",
    "plt.ylabel('Stress Amplitude (Mpa)')\n",
    "plt.title('Reg Plot Energy Density vs Stress Amplitude (MPa)')"
   ]
  },
  {
   "cell_type": "code",
   "execution_count": 31,
   "id": "baa11297",
   "metadata": {},
   "outputs": [
    {
     "data": {
      "text/html": [
       "<div>\n",
       "<style scoped>\n",
       "    .dataframe tbody tr th:only-of-type {\n",
       "        vertical-align: middle;\n",
       "    }\n",
       "\n",
       "    .dataframe tbody tr th {\n",
       "        vertical-align: top;\n",
       "    }\n",
       "\n",
       "    .dataframe thead th {\n",
       "        text-align: right;\n",
       "    }\n",
       "</style>\n",
       "<table border=\"1\" class=\"dataframe\">\n",
       "  <thead>\n",
       "    <tr style=\"text-align: right;\">\n",
       "      <th></th>\n",
       "      <th>Energy</th>\n",
       "      <th>Stress Amplitude (Mpa)</th>\n",
       "      <th>Log Scale</th>\n",
       "    </tr>\n",
       "  </thead>\n",
       "  <tbody>\n",
       "    <tr>\n",
       "      <th>0</th>\n",
       "      <td>-0.022842</td>\n",
       "      <td>1.459673</td>\n",
       "      <td>5.103804</td>\n",
       "    </tr>\n",
       "    <tr>\n",
       "      <th>1</th>\n",
       "      <td>-0.022842</td>\n",
       "      <td>0.601821</td>\n",
       "      <td>5.363612</td>\n",
       "    </tr>\n",
       "    <tr>\n",
       "      <th>2</th>\n",
       "      <td>-0.022842</td>\n",
       "      <td>0.187686</td>\n",
       "      <td>5.350248</td>\n",
       "    </tr>\n",
       "    <tr>\n",
       "      <th>3</th>\n",
       "      <td>-0.022842</td>\n",
       "      <td>0.601821</td>\n",
       "      <td>5.563481</td>\n",
       "    </tr>\n",
       "    <tr>\n",
       "      <th>4</th>\n",
       "      <td>-0.022842</td>\n",
       "      <td>1.060328</td>\n",
       "      <td>5.891537</td>\n",
       "    </tr>\n",
       "    <tr>\n",
       "      <th>...</th>\n",
       "      <td>...</td>\n",
       "      <td>...</td>\n",
       "      <td>...</td>\n",
       "    </tr>\n",
       "    <tr>\n",
       "      <th>120</th>\n",
       "      <td>-0.903554</td>\n",
       "      <td>-0.906814</td>\n",
       "      <td>7.418301</td>\n",
       "    </tr>\n",
       "    <tr>\n",
       "      <th>121</th>\n",
       "      <td>-0.903554</td>\n",
       "      <td>-0.906814</td>\n",
       "      <td>7.746634</td>\n",
       "    </tr>\n",
       "    <tr>\n",
       "      <th>122</th>\n",
       "      <td>-0.903554</td>\n",
       "      <td>-0.832861</td>\n",
       "      <td>7.904174</td>\n",
       "    </tr>\n",
       "    <tr>\n",
       "      <th>123</th>\n",
       "      <td>-0.903554</td>\n",
       "      <td>-0.906814</td>\n",
       "      <td>8.532754</td>\n",
       "    </tr>\n",
       "    <tr>\n",
       "      <th>124</th>\n",
       "      <td>-0.903554</td>\n",
       "      <td>-0.906814</td>\n",
       "      <td>8.846955</td>\n",
       "    </tr>\n",
       "  </tbody>\n",
       "</table>\n",
       "<p>125 rows × 3 columns</p>\n",
       "</div>"
      ],
      "text/plain": [
       "       Energy  Stress Amplitude (Mpa)  Log Scale\n",
       "0   -0.022842                1.459673   5.103804\n",
       "1   -0.022842                0.601821   5.363612\n",
       "2   -0.022842                0.187686   5.350248\n",
       "3   -0.022842                0.601821   5.563481\n",
       "4   -0.022842                1.060328   5.891537\n",
       "..        ...                     ...        ...\n",
       "120 -0.903554               -0.906814   7.418301\n",
       "121 -0.903554               -0.906814   7.746634\n",
       "122 -0.903554               -0.832861   7.904174\n",
       "123 -0.903554               -0.906814   8.532754\n",
       "124 -0.903554               -0.906814   8.846955\n",
       "\n",
       "[125 rows x 3 columns]"
      ]
     },
     "execution_count": 31,
     "metadata": {},
     "output_type": "execute_result"
    }
   ],
   "source": [
    "Total_Data"
   ]
  },
  {
   "cell_type": "code",
   "execution_count": 32,
   "id": "ff3ec556",
   "metadata": {},
   "outputs": [],
   "source": [
    "X = Total_Data[['Energy','Stress Amplitude (Mpa)']]\n",
    "Y = Total_Data[['Log Scale']]"
   ]
  },
  {
   "cell_type": "code",
   "execution_count": 33,
   "id": "4770d73e",
   "metadata": {},
   "outputs": [],
   "source": [
    "from sklearn.model_selection import train_test_split\n",
    "X_train,X_test,Y_train,Y_test = train_test_split(X,Y,test_size = 0.2,random_state = 57)"
   ]
  },
  {
   "cell_type": "code",
   "execution_count": 34,
   "id": "580abf2a",
   "metadata": {},
   "outputs": [
    {
     "data": {
      "text/plain": [
       "<AxesSubplot:xlabel='Stress Amplitude (Mpa)', ylabel='Density'>"
      ]
     },
     "execution_count": 34,
     "metadata": {},
     "output_type": "execute_result"
    },
    {
     "data": {
      "image/png": "[encoded data removed]",
      "text/plain": [
       "<Figure size 432x288 with 1 Axes>"
      ]
     },
     "metadata": {
      "needs_background": "light"
     },
     "output_type": "display_data"
    }
   ],
   "source": [
    "sns.distplot(X_train['Stress Amplitude (Mpa)'])"
   ]
  },
  {
   "cell_type": "code",
   "execution_count": 35,
   "id": "1029379e",
   "metadata": {},
   "outputs": [
    {
     "data": {
      "text/plain": [
       "<AxesSubplot:xlabel='Stress Amplitude (Mpa)', ylabel='Density'>"
      ]
     },
     "execution_count": 35,
     "metadata": {},
     "output_type": "execute_result"
    },
    {
     "data": {
      "image/png": "[encoded data removed]",
      "text/plain": [
       "<Figure size 432x288 with 1 Axes>"
      ]
     },
     "metadata": {
      "needs_background": "light"
     },
     "output_type": "display_data"
    }
   ],
   "source": [
    "sns.distplot(X_test['Stress Amplitude (Mpa)'])"
   ]
  },
  {
   "cell_type": "code",
   "execution_count": 36,
   "id": "c963f49b",
   "metadata": {},
   "outputs": [
    {
     "data": {
      "text/plain": [
       "<AxesSubplot:xlabel='Energy', ylabel='Density'>"
      ]
     },
     "execution_count": 36,
     "metadata": {},
     "output_type": "execute_result"
    },
    {
     "data": {
      "image/png": "[encoded data removed]",
      "text/plain": [
       "<Figure size 432x288 with 1 Axes>"
      ]
     },
     "metadata": {
      "needs_background": "light"
     },
     "output_type": "display_data"
    }
   ],
   "source": [
    "sns.distplot(X_train['Energy'])"
   ]
  },
  {
   "cell_type": "code",
   "execution_count": 37,
   "id": "42031599",
   "metadata": {},
   "outputs": [
    {
     "data": {
      "text/plain": [
       "<AxesSubplot:xlabel='Energy', ylabel='Density'>"
      ]
     },
     "execution_count": 37,
     "metadata": {},
     "output_type": "execute_result"
    },
    {
     "data": {
      "image/png": "[encoded data removed]",
      "text/plain": [
       "<Figure size 432x288 with 1 Axes>"
      ]
     },
     "metadata": {
      "needs_background": "light"
     },
     "output_type": "display_data"
    }
   ],
   "source": [
    "sns.distplot(X_test['Energy'])"
   ]
  },
  {
   "cell_type": "code",
   "execution_count": 38,
   "id": "3e219a3a",
   "metadata": {},
   "outputs": [],
   "source": [
    "list_r2 = []\n",
    "list_mse = []\n",
    "list_mae = []"
   ]
  },
  {
   "cell_type": "code",
   "execution_count": 39,
   "id": "4bdc5491",
   "metadata": {},
   "outputs": [
    {
     "name": "stdout",
     "output_type": "stream",
     "text": [
      "Best Parameters:\n",
      " {'bootstrap': True, 'criterion': 'mse', 'max_features': 'log2', 'min_samples_split': 4, 'n_estimators': 100}\n"
     ]
    }
   ],
   "source": [
    "estimator = RandomForestRegressor()\n",
    "param_grid = { \n",
    "            \"n_estimators\"      : [30,50,100],\n",
    "            \"max_features\"      : [\"auto\", \"sqrt\", \"log2\"],\n",
    "            \"min_samples_split\" : [2,4,8],\n",
    "            \"bootstrap\": [True, False],\n",
    "            \"criterion\" : ['mse','mae']\n",
    "            }\n",
    "\n",
    "grid_rf = GridSearchCV(estimator, param_grid, n_jobs=-1, cv=6)\n",
    "\n",
    "grid_rf.fit(X_train, Y_train)\n",
    "print('Best Parameters:\\n',grid_rf.best_params_)"
   ]
  },
  {
   "cell_type": "code",
   "execution_count": 40,
   "id": "2dfb35a2",
   "metadata": {},
   "outputs": [
    {
     "data": {
      "text/plain": [
       "{'cv': 6,\n",
       " 'error_score': nan,\n",
       " 'estimator__bootstrap': True,\n",
       " 'estimator__ccp_alpha': 0.0,\n",
       " 'estimator__criterion': 'mse',\n",
       " 'estimator__max_depth': None,\n",
       " 'estimator__max_features': 'auto',\n",
       " 'estimator__max_leaf_nodes': None,\n",
       " 'estimator__max_samples': None,\n",
       " 'estimator__min_impurity_decrease': 0.0,\n",
       " 'estimator__min_impurity_split': None,\n",
       " 'estimator__min_samples_leaf': 1,\n",
       " 'estimator__min_samples_split': 2,\n",
       " 'estimator__min_weight_fraction_leaf': 0.0,\n",
       " 'estimator__n_estimators': 100,\n",
       " 'estimator__n_jobs': None,\n",
       " 'estimator__oob_score': False,\n",
       " 'estimator__random_state': None,\n",
       " 'estimator__verbose': 0,\n",
       " 'estimator__warm_start': False,\n",
       " 'estimator': RandomForestRegressor(),\n",
       " 'n_jobs': -1,\n",
       " 'param_grid': {'n_estimators': [30, 50, 100],\n",
       "  'max_features': ['auto', 'sqrt', 'log2'],\n",
       "  'min_samples_split': [2, 4, 8],\n",
       "  'bootstrap': [True, False],\n",
       "  'criterion': ['mse', 'mae']},\n",
       " 'pre_dispatch': '2*n_jobs',\n",
       " 'refit': True,\n",
       " 'return_train_score': False,\n",
       " 'scoring': None,\n",
       " 'verbose': 0}"
      ]
     },
     "execution_count": 40,
     "metadata": {},
     "output_type": "execute_result"
    }
   ],
   "source": [
    "grid_rf.get_params()"
   ]
  },
  {
   "cell_type": "code",
   "execution_count": 41,
   "id": "0067578a",
   "metadata": {},
   "outputs": [
    {
     "name": "stdout",
     "output_type": "stream",
     "text": [
      "Random Forest Test set R2 Score is 0.7638943648103034\n"
     ]
    }
   ],
   "source": [
    "Y_predict = grid_rf.predict(X_test)\n",
    "r2_rf_test = r2_score(Y_test,Y_predict)\n",
    "print('Random Forest Test set R2 Score is',r2_score(Y_test,Y_predict))\n",
    "list_r2.append(r2_score(Y_test,Y_predict))\n",
    "list_mse.append(mean_squared_error(Y_test,Y_predict))\n",
    "list_mae.append(mean_absolute_error(Y_test,Y_predict))"
   ]
  },
  {
   "cell_type": "code",
   "execution_count": 42,
   "id": "82c0cd6d",
   "metadata": {},
   "outputs": [
    {
     "name": "stdout",
     "output_type": "stream",
     "text": [
      "Random Forest Train set R2 score is 0.7869174273110855\n"
     ]
    }
   ],
   "source": [
    "r2_rf_train = r2_score(Y_train,grid_rf.predict(X_train))\n",
    "print('Random Forest Train set R2 score is',r2_score(Y_train,grid_rf.predict(X_train)))"
   ]
  },
  {
   "cell_type": "code",
   "execution_count": 43,
   "id": "51237fb0",
   "metadata": {},
   "outputs": [
    {
     "data": {
      "text/plain": [
       "Text(0.5, 1.0, 'RF Q-Q Plot')"
      ]
     },
     "execution_count": 43,
     "metadata": {},
     "output_type": "execute_result"
    },
    {
     "data": {
      "image/png": "[encoded data removed]",
      "text/plain": [
       "<Figure size 432x288 with 1 Axes>"
      ]
     },
     "metadata": {
      "needs_background": "light"
     },
     "output_type": "display_data"
    }
   ],
   "source": [
    "plt.scatter(Y_test,Y_predict)\n",
    "plt.plot(Y_test,Y_test)\n",
    "plt.xlabel('Y_test')\n",
    "plt.ylabel('Y_predict')\n",
    "plt.title('RF Q-Q Plot')"
   ]
  },
  {
   "cell_type": "code",
   "execution_count": 44,
   "id": "7d2087e6",
   "metadata": {},
   "outputs": [
    {
     "data": {
      "text/plain": [
       "Text(0.5, 1.0, 'Random Forest R2 Scores Compared')"
      ]
     },
     "execution_count": 44,
     "metadata": {},
     "output_type": "execute_result"
    },
    {
     "data": {
      "image/png": "[encoded data removed]",
      "text/plain": [
       "<Figure size 432x288 with 1 Axes>"
      ]
     },
     "metadata": {
      "needs_background": "light"
     },
     "output_type": "display_data"
    }
   ],
   "source": [
    "Scores = pd.DataFrame({'Set' : ['Test','Train'],\n",
    "                        'R2 Compared' : [r2_rf_test,r2_rf_train]})\n",
    "Scores.set_index('Set', inplace = True)\n",
    "Scores.plot.bar()\n",
    "plt.ylabel('r2_score')\n",
    "plt.title('Random Forest R2 Scores Compared')"
   ]
  },
  {
   "cell_type": "code",
   "execution_count": 45,
   "id": "5bcd27c5",
   "metadata": {},
   "outputs": [
    {
     "name": "stdout",
     "output_type": "stream",
     "text": [
      "Best Parameters:\n",
      " {'booster': 'gbtree', 'lambda': 0.5, 'learning_rate': 0.2, 'max_depth': 2}\n"
     ]
    }
   ],
   "source": [
    "estimator = XGBRegressor()\n",
    "param_grid = { \n",
    "            \"booster\"      : ['gbtree', 'gblinear'],\n",
    "            \"max_depth\"      : [2,4,6,8],\n",
    "            \"lambda\" : [0.5,1,1.5,2],\n",
    "            \"learning_rate\": [0.1,0.2,0.3,0.4,0.5],\n",
    "            }\n",
    "\n",
    "grid_xg = GridSearchCV(estimator, param_grid, n_jobs=-1, cv=6)\n",
    "\n",
    "grid_xg.fit(X_train, Y_train)\n",
    "print('Best Parameters:\\n',grid_xg.best_params_)"
   ]
  },
  {
   "cell_type": "code",
   "execution_count": 46,
   "id": "6aa744ea",
   "metadata": {},
   "outputs": [
    {
     "data": {
      "text/plain": [
       "{'cv': 6,\n",
       " 'error_score': nan,\n",
       " 'estimator__objective': 'reg:squarederror',\n",
       " 'estimator__base_score': None,\n",
       " 'estimator__booster': None,\n",
       " 'estimator__colsample_bylevel': None,\n",
       " 'estimator__colsample_bynode': None,\n",
       " 'estimator__colsample_bytree': None,\n",
       " 'estimator__gamma': None,\n",
       " 'estimator__gpu_id': None,\n",
       " 'estimator__importance_type': 'gain',\n",
       " 'estimator__interaction_constraints': None,\n",
       " 'estimator__learning_rate': None,\n",
       " 'estimator__max_delta_step': None,\n",
       " 'estimator__max_depth': None,\n",
       " 'estimator__min_child_weight': None,\n",
       " 'estimator__missing': nan,\n",
       " 'estimator__monotone_constraints': None,\n",
       " 'estimator__n_estimators': 100,\n",
       " 'estimator__n_jobs': None,\n",
       " 'estimator__num_parallel_tree': None,\n",
       " 'estimator__random_state': None,\n",
       " 'estimator__reg_alpha': None,\n",
       " 'estimator__reg_lambda': None,\n",
       " 'estimator__scale_pos_weight': None,\n",
       " 'estimator__subsample': None,\n",
       " 'estimator__tree_method': None,\n",
       " 'estimator__validate_parameters': None,\n",
       " 'estimator__verbosity': None,\n",
       " 'estimator': XGBRegressor(base_score=None, booster=None, colsample_bylevel=None,\n",
       "              colsample_bynode=None, colsample_bytree=None, gamma=None,\n",
       "              gpu_id=None, importance_type='gain', interaction_constraints=None,\n",
       "              learning_rate=None, max_delta_step=None, max_depth=None,\n",
       "              min_child_weight=None, missing=nan, monotone_constraints=None,\n",
       "              n_estimators=100, n_jobs=None, num_parallel_tree=None,\n",
       "              random_state=None, reg_alpha=None, reg_lambda=None,\n",
       "              scale_pos_weight=None, subsample=None, tree_method=None,\n",
       "              validate_parameters=None, verbosity=None),\n",
       " 'n_jobs': -1,\n",
       " 'param_grid': {'booster': ['gbtree', 'gblinear'],\n",
       "  'max_depth': [2, 4, 6, 8],\n",
       "  'lambda': [0.5, 1, 1.5, 2],\n",
       "  'learning_rate': [0.1, 0.2, 0.3, 0.4, 0.5]},\n",
       " 'pre_dispatch': '2*n_jobs',\n",
       " 'refit': True,\n",
       " 'return_train_score': False,\n",
       " 'scoring': None,\n",
       " 'verbose': 0}"
      ]
     },
     "execution_count": 46,
     "metadata": {},
     "output_type": "execute_result"
    }
   ],
   "source": [
    "grid_xg.get_params()"
   ]
  },
  {
   "cell_type": "code",
   "execution_count": 47,
   "id": "4818857b",
   "metadata": {},
   "outputs": [
    {
     "name": "stdout",
     "output_type": "stream",
     "text": [
      "XG Boost Test set R2 Score is 0.8321718170827213\n"
     ]
    }
   ],
   "source": [
    "Y_predict = grid_xg.predict(X_test)\n",
    "r2_xg_test = r2_score(Y_test,Y_predict)\n",
    "print('XG Boost Test set R2 Score is',r2_score(Y_test,Y_predict))\n",
    "list_r2.append(r2_score(Y_test,Y_predict))\n",
    "list_mse.append(mean_squared_error(Y_test,Y_predict))\n",
    "list_mae.append(mean_absolute_error(Y_test,Y_predict))"
   ]
  },
  {
   "cell_type": "code",
   "execution_count": 48,
   "id": "18181912",
   "metadata": {},
   "outputs": [
    {
     "name": "stdout",
     "output_type": "stream",
     "text": [
      "XG Boost Train set R2 Score is 0.8233000445387337\n"
     ]
    }
   ],
   "source": [
    "Y_predict_train = grid_xg.predict(X_train)\n",
    "r2_xg_train = r2_score(Y_train,Y_predict_train)\n",
    "print('XG Boost Train set R2 Score is',r2_score(Y_train,Y_predict_train))"
   ]
  },
  {
   "cell_type": "code",
   "execution_count": 49,
   "id": "c79194c9",
   "metadata": {},
   "outputs": [
    {
     "data": {
      "text/plain": [
       "Text(0.5, 1.0, 'XG Q-Q Plot')"
      ]
     },
     "execution_count": 49,
     "metadata": {},
     "output_type": "execute_result"
    },
    {
     "data": {
      "image/png": "[encoded data removed]",
      "text/plain": [
       "<Figure size 432x288 with 1 Axes>"
      ]
     },
     "metadata": {
      "needs_background": "light"
     },
     "output_type": "display_data"
    }
   ],
   "source": [
    "plt.scatter(Y_test,Y_predict)\n",
    "plt.plot(Y_test,Y_test)\n",
    "plt.xlabel('Y_test')\n",
    "plt.ylabel('Y_predict')\n",
    "plt.title('XG Q-Q Plot')"
   ]
  },
  {
   "cell_type": "code",
   "execution_count": 50,
   "id": "54714b03",
   "metadata": {},
   "outputs": [
    {
     "data": {
      "text/plain": [
       "Text(0.5, 1.0, 'XG Boosting R2 Scores Compared')"
      ]
     },
     "execution_count": 50,
     "metadata": {},
     "output_type": "execute_result"
    },
    {
     "data": {
      "image/png": "[encoded data removed]",
      "text/plain": [
       "<Figure size 432x288 with 1 Axes>"
      ]
     },
     "metadata": {
      "needs_background": "light"
     },
     "output_type": "display_data"
    }
   ],
   "source": [
    "Scores = pd.DataFrame({'Set' : ['Test','Train'],\n",
    "                        'R2 Compared' : [r2_xg_test,r2_xg_train]})\n",
    "Scores.set_index('Set', inplace = True)\n",
    "Scores.plot.bar()\n",
    "plt.ylabel('r2_score')\n",
    "plt.title('XG Boosting R2 Scores Compared')"
   ]
  },
  {
   "cell_type": "code",
   "execution_count": 51,
   "id": "f4bc8271",
   "metadata": {},
   "outputs": [
    {
     "name": "stdout",
     "output_type": "stream",
     "text": [
      "Best Parameters:\n",
      " {'learning_rate': 0.1, 'loss': 'ls', 'n_estimators': 50}\n"
     ]
    }
   ],
   "source": [
    "estimator_gb = GradientBoostingRegressor()\n",
    "param_grid = { \n",
    "            \"loss\"      : ['ls','lad'],\n",
    "            \"n_estimators\"      : [30,50,100],\n",
    "            \"learning_rate\": [0.05,0.1,0.15,0.2],\n",
    "            }\n",
    "\n",
    "grid_gb = GridSearchCV(estimator_gb, param_grid, n_jobs=-1, cv=6)\n",
    "\n",
    "grid_gb.fit(X_train, Y_train)\n",
    "print('Best Parameters:\\n',grid_gb.best_params_)"
   ]
  },
  {
   "cell_type": "code",
   "execution_count": 52,
   "id": "c9235a76",
   "metadata": {},
   "outputs": [
    {
     "data": {
      "text/plain": [
       "{'cv': 6,\n",
       " 'error_score': nan,\n",
       " 'estimator__alpha': 0.9,\n",
       " 'estimator__ccp_alpha': 0.0,\n",
       " 'estimator__criterion': 'friedman_mse',\n",
       " 'estimator__init': None,\n",
       " 'estimator__learning_rate': 0.1,\n",
       " 'estimator__loss': 'ls',\n",
       " 'estimator__max_depth': 3,\n",
       " 'estimator__max_features': None,\n",
       " 'estimator__max_leaf_nodes': None,\n",
       " 'estimator__min_impurity_decrease': 0.0,\n",
       " 'estimator__min_impurity_split': None,\n",
       " 'estimator__min_samples_leaf': 1,\n",
       " 'estimator__min_samples_split': 2,\n",
       " 'estimator__min_weight_fraction_leaf': 0.0,\n",
       " 'estimator__n_estimators': 100,\n",
       " 'estimator__n_iter_no_change': None,\n",
       " 'estimator__random_state': None,\n",
       " 'estimator__subsample': 1.0,\n",
       " 'estimator__tol': 0.0001,\n",
       " 'estimator__validation_fraction': 0.1,\n",
       " 'estimator__verbose': 0,\n",
       " 'estimator__warm_start': False,\n",
       " 'estimator': GradientBoostingRegressor(),\n",
       " 'n_jobs': -1,\n",
       " 'param_grid': {'loss': ['ls', 'lad'],\n",
       "  'n_estimators': [30, 50, 100],\n",
       "  'learning_rate': [0.05, 0.1, 0.15, 0.2]},\n",
       " 'pre_dispatch': '2*n_jobs',\n",
       " 'refit': True,\n",
       " 'return_train_score': False,\n",
       " 'scoring': None,\n",
       " 'verbose': 0}"
      ]
     },
     "execution_count": 52,
     "metadata": {},
     "output_type": "execute_result"
    }
   ],
   "source": [
    "grid_gb.get_params()"
   ]
  },
  {
   "cell_type": "code",
   "execution_count": 53,
   "id": "c0112629",
   "metadata": {},
   "outputs": [
    {
     "name": "stdout",
     "output_type": "stream",
     "text": [
      "Gradient Boost Test set R2 Score is 0.7468995096986655\n"
     ]
    }
   ],
   "source": [
    "Y_predict = grid_gb.predict(X_test)\n",
    "r2_gb_test = r2_score(Y_test,Y_predict)\n",
    "print('Gradient Boost Test set R2 Score is',r2_score(Y_test,Y_predict))\n",
    "list_r2.append(r2_score(Y_test,Y_predict))\n",
    "list_mse.append(mean_squared_error(Y_test,Y_predict))"
   ]
  },
  {
   "cell_type": "code",
   "execution_count": 54,
   "id": "bb8e9fcf",
   "metadata": {},
   "outputs": [
    {
     "name": "stdout",
     "output_type": "stream",
     "text": [
      "Gradient Boost Train set R2 Score is 0.7557096757272399\n"
     ]
    }
   ],
   "source": [
    "Y_predict_train = grid_gb.predict(X_train)\n",
    "r2_gb_train = r2_score(Y_train,Y_predict_train)\n",
    "print('Gradient Boost Train set R2 Score is',r2_score(Y_train,Y_predict_train))"
   ]
  },
  {
   "cell_type": "code",
   "execution_count": 55,
   "id": "b58ab5ff",
   "metadata": {},
   "outputs": [
    {
     "data": {
      "text/plain": [
       "Text(0.5, 1.0, 'GB Q-Q Plot')"
      ]
     },
     "execution_count": 55,
     "metadata": {},
     "output_type": "execute_result"
    },
    {
     "data": {
      "image/png": "[encoded data removed]",
      "text/plain": [
       "<Figure size 432x288 with 1 Axes>"
      ]
     },
     "metadata": {
      "needs_background": "light"
     },
     "output_type": "display_data"
    }
   ],
   "source": [
    "sns.regplot(Y_test,Y_predict)\n",
    "plt.xlabel('Y_test')\n",
    "plt.ylabel('Y_predict')\n",
    "plt.title('GB Q-Q Plot')"
   ]
  },
  {
   "cell_type": "code",
   "execution_count": 56,
   "id": "056ca3df",
   "metadata": {},
   "outputs": [
    {
     "data": {
      "text/plain": [
       "Text(0.5, 1.0, 'GB')"
      ]
     },
     "execution_count": 56,
     "metadata": {},
     "output_type": "execute_result"
    },
    {
     "data": {
      "image/png": "[encoded data removed]",
      "text/plain": [
       "<Figure size 432x288 with 1 Axes>"
      ]
     },
     "metadata": {
      "needs_background": "light"
     },
     "output_type": "display_data"
    }
   ],
   "source": [
    "Scores = pd.DataFrame({'Set' : ['Test','Train'],\n",
    "                        'R2 Compared' : [r2_gb_test,r2_gb_train]})\n",
    "Scores.set_index('Set', inplace = True)\n",
    "Scores.plot.bar()\n",
    "plt.ylabel('r2_score')\n",
    "plt.title('GB')"
   ]
  },
  {
   "cell_type": "code",
   "execution_count": 57,
   "id": "4351aa99",
   "metadata": {},
   "outputs": [
    {
     "name": "stdout",
     "output_type": "stream",
     "text": [
      "[0.31238016997717627, 0.5062133473026672, 0.5837886912648071, 0.6420346076218011, 0.6679768032862802]\n"
     ]
    }
   ],
   "source": [
    "mean_sq_error = []\n",
    "for i in range(2,7):\n",
    "    estimator_knn = KNeighborsRegressor(n_neighbors = i)\n",
    "    estimator_knn.fit(X_train, Y_train)\n",
    "    Y_predict = estimator_knn.predict(X_train)\n",
    "    mean_sq_error.append(mean_squared_error(Y_train,Y_predict))\n",
    "print(mean_sq_error)  "
   ]
  },
  {
   "cell_type": "code",
   "execution_count": 58,
   "id": "04828604",
   "metadata": {},
   "outputs": [
    {
     "data": {
      "text/plain": [
       "<AxesSubplot:xlabel='K_neigbours', ylabel='Mean_Squared_error'>"
      ]
     },
     "execution_count": 58,
     "metadata": {},
     "output_type": "execute_result"
    },
    {
     "data": {
      "image/png": "[encoded data removed]",
      "text/plain": [
       "<Figure size 432x288 with 1 Axes>"
      ]
     },
     "metadata": {
      "needs_background": "light"
     },
     "output_type": "display_data"
    }
   ],
   "source": [
    "KNN_Df = pd.DataFrame({'K_neigbours' : [2,3,4,5,6],\n",
    "                      'Mean_Squared_error' : mean_sq_error})\n",
    "sns.regplot(KNN_Df['K_neigbours'],KNN_Df['Mean_Squared_error'])"
   ]
  },
  {
   "cell_type": "code",
   "execution_count": 59,
   "id": "0e0efd43",
   "metadata": {},
   "outputs": [
    {
     "data": {
      "text/html": [
       "<div>\n",
       "<style scoped>\n",
       "    .dataframe tbody tr th:only-of-type {\n",
       "        vertical-align: middle;\n",
       "    }\n",
       "\n",
       "    .dataframe tbody tr th {\n",
       "        vertical-align: top;\n",
       "    }\n",
       "\n",
       "    .dataframe thead th {\n",
       "        text-align: right;\n",
       "    }\n",
       "</style>\n",
       "<table border=\"1\" class=\"dataframe\">\n",
       "  <thead>\n",
       "    <tr style=\"text-align: right;\">\n",
       "      <th></th>\n",
       "      <th>K_neigbours</th>\n",
       "      <th>Mean_Squared_error</th>\n",
       "    </tr>\n",
       "  </thead>\n",
       "  <tbody>\n",
       "    <tr>\n",
       "      <th>0</th>\n",
       "      <td>2</td>\n",
       "      <td>0.312380</td>\n",
       "    </tr>\n",
       "    <tr>\n",
       "      <th>1</th>\n",
       "      <td>3</td>\n",
       "      <td>0.506213</td>\n",
       "    </tr>\n",
       "    <tr>\n",
       "      <th>2</th>\n",
       "      <td>4</td>\n",
       "      <td>0.583789</td>\n",
       "    </tr>\n",
       "    <tr>\n",
       "      <th>3</th>\n",
       "      <td>5</td>\n",
       "      <td>0.642035</td>\n",
       "    </tr>\n",
       "    <tr>\n",
       "      <th>4</th>\n",
       "      <td>6</td>\n",
       "      <td>0.667977</td>\n",
       "    </tr>\n",
       "  </tbody>\n",
       "</table>\n",
       "</div>"
      ],
      "text/plain": [
       "   K_neigbours  Mean_Squared_error\n",
       "0            2            0.312380\n",
       "1            3            0.506213\n",
       "2            4            0.583789\n",
       "3            5            0.642035\n",
       "4            6            0.667977"
      ]
     },
     "execution_count": 59,
     "metadata": {},
     "output_type": "execute_result"
    }
   ],
   "source": [
    "KNN_Df"
   ]
  },
  {
   "cell_type": "code",
   "execution_count": 60,
   "id": "0d982fbe",
   "metadata": {},
   "outputs": [
    {
     "data": {
      "text/plain": [
       "0.772081517591844"
      ]
     },
     "execution_count": 60,
     "metadata": {},
     "output_type": "execute_result"
    }
   ],
   "source": [
    "estimator_knn = KNeighborsRegressor(n_neighbors = 2)\n",
    "estimator_knn.fit(X_train, Y_train)\n",
    "Y_predict = estimator_knn.predict(X_train)\n",
    "r2_score(Y_train,Y_predict)"
   ]
  },
  {
   "cell_type": "code",
   "execution_count": 61,
   "id": "3d22d7ef",
   "metadata": {},
   "outputs": [
    {
     "data": {
      "text/plain": [
       "0.756725046890121"
      ]
     },
     "execution_count": 61,
     "metadata": {},
     "output_type": "execute_result"
    }
   ],
   "source": [
    "Y_test_predict = estimator_knn.predict(X_test)\n",
    "r2_score(Y_test,Y_test_predict)"
   ]
  },
  {
   "cell_type": "code",
   "execution_count": 62,
   "id": "d269fd72",
   "metadata": {},
   "outputs": [
    {
     "data": {
      "text/plain": [
       "Text(0.5, 1.0, 'KNN Q-Q Plot')"
      ]
     },
     "execution_count": 62,
     "metadata": {},
     "output_type": "execute_result"
    },
    {
     "data": {
      "image/png": "[encoded data removed]",
      "text/plain": [
       "<Figure size 432x288 with 1 Axes>"
      ]
     },
     "metadata": {
      "needs_background": "light"
     },
     "output_type": "display_data"
    }
   ],
   "source": [
    "sns.regplot(Y_test,Y_test_predict)\n",
    "plt.xlabel('Y_test')\n",
    "plt.ylabel('Y_predict')\n",
    "plt.title('KNN Q-Q Plot')"
   ]
  },
  {
   "cell_type": "code",
   "execution_count": 63,
   "id": "eec686df",
   "metadata": {},
   "outputs": [],
   "source": [
    "list_r2.append(r2_score(Y_test,Y_test_predict))\n",
    "list_mse.append(mean_squared_error(Y_test,Y_test_predict))"
   ]
  },
  {
   "cell_type": "code",
   "execution_count": 64,
   "id": "325d58ae",
   "metadata": {},
   "outputs": [
    {
     "data": {
      "text/plain": [
       "Text(0.5, 1.0, 'GB')"
      ]
     },
     "execution_count": 64,
     "metadata": {},
     "output_type": "execute_result"
    },
    {
     "data": {
      "image/png": "[encoded data removed]",
      "text/plain": [
       "<Figure size 432x288 with 1 Axes>"
      ]
     },
     "metadata": {
      "needs_background": "light"
     },
     "output_type": "display_data"
    }
   ],
   "source": [
    "Scores = pd.DataFrame({'Set' : ['Test','Train'],\n",
    "                        'R2 Compared' : [r2_score(Y_test,Y_test_predict),r2_score(Y_train,Y_predict)]})\n",
    "Scores.set_index('Set', inplace = True)\n",
    "Scores.plot.bar()\n",
    "plt.ylabel('r2_score')\n",
    "plt.title('GB')"
   ]
  },
  {
   "cell_type": "code",
   "execution_count": 65,
   "id": "30efaf64",
   "metadata": {},
   "outputs": [
    {
     "data": {
      "text/plain": [
       "[0.38642333932836864,\n",
       " 0.2746767429934567,\n",
       " 0.41423804463332464,\n",
       " 0.39815703543095304]"
      ]
     },
     "execution_count": 65,
     "metadata": {},
     "output_type": "execute_result"
    }
   ],
   "source": [
    "list_mse"
   ]
  },
  {
   "cell_type": "code",
   "execution_count": 66,
   "id": "118a5693",
   "metadata": {},
   "outputs": [
    {
     "data": {
      "text/plain": [
       "[0.7638943648103034, 0.8321718170827213, 0.7468995096986655, 0.756725046890121]"
      ]
     },
     "execution_count": 66,
     "metadata": {},
     "output_type": "execute_result"
    }
   ],
   "source": [
    "list_r2"
   ]
  },
  {
   "cell_type": "code",
   "execution_count": 67,
   "id": "3f92eb92",
   "metadata": {},
   "outputs": [
    {
     "data": {
      "text/plain": [
       "Text(0.5, 1.0, 'Comparison of R2 Scores between the Algorithms')"
      ]
     },
     "execution_count": 67,
     "metadata": {},
     "output_type": "execute_result"
    },
    {
     "data": {
      "image/png": "[encoded data removed]",
      "text/plain": [
       "<Figure size 432x288 with 1 Axes>"
      ]
     },
     "metadata": {
      "needs_background": "light"
     },
     "output_type": "display_data"
    }
   ],
   "source": [
    "Scores = pd.DataFrame({'Algorithms' : ['RF','XG','GB','KNN'],\n",
    "                        'R2 Compared' : list_r2})\n",
    "Scores.set_index('Algorithms', inplace = True)\n",
    "Scores.plot.bar()\n",
    "plt.ylabel('R2 Scores')\n",
    "plt.title('Comparison of R2 Scores between the Algorithms')"
   ]
  },
  {
   "cell_type": "code",
   "execution_count": 68,
   "id": "104bc8d8",
   "metadata": {},
   "outputs": [
    {
     "data": {
      "text/plain": [
       "Text(0.5, 1.0, 'MSE Compared')"
      ]
     },
     "execution_count": 68,
     "metadata": {},
     "output_type": "execute_result"
    },
    {
     "data": {
      "image/png": "[encoded data removed]",
      "text/plain": [
       "<Figure size 432x288 with 1 Axes>"
      ]
     },
     "metadata": {
      "needs_background": "light"
     },
     "output_type": "display_data"
    }
   ],
   "source": [
    "Scores = pd.DataFrame({'Algorithms' : ['RF','XG','GB','KNN'],\n",
    "                        'Mse Compared' : list_mse})\n",
    "Scores.set_index('Algorithms', inplace = True)\n",
    "Scores.plot.bar()\n",
    "plt.ylabel('MSE Scores')\n",
    "plt.title('MSE Compared')"
   ]
  },
  {
   "cell_type": "code",
   "execution_count": 69,
   "id": "be9d1f11",
   "metadata": {},
   "outputs": [
    {
     "data": {
      "text/plain": [
       "[0.38642333932836864, 0.2746767429934567]"
      ]
     },
     "execution_count": 69,
     "metadata": {},
     "output_type": "execute_result"
    }
   ],
   "source": [
    "lis_mis = list_mse[0:2]\n",
    "lis_mis"
   ]
  },
  {
   "cell_type": "code",
   "execution_count": 70,
   "id": "fec03506",
   "metadata": {},
   "outputs": [
    {
     "data": {
      "text/plain": [
       "[0.5619892062671625, 0.44781978718324245]"
      ]
     },
     "execution_count": 70,
     "metadata": {},
     "output_type": "execute_result"
    }
   ],
   "source": [
    "list_mae"
   ]
  },
  {
   "cell_type": "code",
   "execution_count": 71,
   "id": "6a52d398",
   "metadata": {},
   "outputs": [
    {
     "data": {
      "text/plain": [
       "[0.38642333932836864,\n",
       " 0.2746767429934567,\n",
       " 0.5619892062671625,\n",
       " 0.44781978718324245]"
      ]
     },
     "execution_count": 71,
     "metadata": {},
     "output_type": "execute_result"
    }
   ],
   "source": [
    "list_final = lis_mis+list_mae\n",
    "list_final"
   ]
  },
  {
   "cell_type": "code",
   "execution_count": 72,
   "id": "c7c2273e",
   "metadata": {},
   "outputs": [
    {
     "data": {
      "text/plain": [
       "Text(0.5, 1.0, 'Comparision of Errors')"
      ]
     },
     "execution_count": 72,
     "metadata": {},
     "output_type": "execute_result"
    },
    {
     "data": {
      "image/png": "[encoded data removed]",
      "text/plain": [
       "<Figure size 432x288 with 1 Axes>"
      ]
     },
     "metadata": {
      "needs_background": "light"
     },
     "output_type": "display_data"
    }
   ],
   "source": [
    "dict_final = pd.DataFrame({'Errors': ['RF MSE','XG MSE','RF MAE','XG MAE'],'Count':list_final})\n",
    "dict_final.set_index('Errors', inplace = True)\n",
    "dict_final.plot.bar()\n",
    "plt.title('Comparision of Errors')"
   ]
  },
  {
   "cell_type": "code",
   "execution_count": 73,
   "id": "639db8bf",
   "metadata": {},
   "outputs": [
    {
     "data": {
      "text/plain": [
       "Text(0.5, 1.0, 'RF Actual vs Predicted')"
      ]
     },
     "execution_count": 73,
     "metadata": {},
     "output_type": "execute_result"
    },
    {
     "data": {
      "image/png": "[encoded data removed]",
      "text/plain": [
       "<Figure size 432x288 with 1 Axes>"
      ]
     },
     "metadata": {
      "needs_background": "light"
     },
     "output_type": "display_data"
    }
   ],
   "source": [
    "plt.scatter(Total_Data['Log Scale'],Total_Data['Stress Amplitude (Mpa)'])\n",
    "plt.scatter(grid_rf.predict(Total_Data[['Energy','Stress Amplitude (Mpa)']]),Total_Data['Stress Amplitude (Mpa)'],color = 'red')\n",
    "plt.xlabel('Log Scaled Fatigue Life')\n",
    "plt.ylabel('Scaled Stress Amplitude')\n",
    "plt.title('RF Actual vs Predicted')"
   ]
  },
  {
   "cell_type": "code",
   "execution_count": 74,
   "id": "b58577e5",
   "metadata": {},
   "outputs": [
    {
     "data": {
      "text/plain": [
       "Text(0.5, 1.0, 'XG Actual vs Predicted')"
      ]
     },
     "execution_count": 74,
     "metadata": {},
     "output_type": "execute_result"
    },
    {
     "data": {
      "image/png": "[encoded data removed]",
      "text/plain": [
       "<Figure size 432x288 with 1 Axes>"
      ]
     },
     "metadata": {
      "needs_background": "light"
     },
     "output_type": "display_data"
    }
   ],
   "source": [
    "plt.scatter(Total_Data['Log Scale'],Total_Data['Stress Amplitude (Mpa)'])\n",
    "plt.scatter(grid_xg.predict(Total_Data[['Energy','Stress Amplitude (Mpa)']]),Total_Data['Stress Amplitude (Mpa)'],color = 'red')\n",
    "plt.xlabel('Log Scaled Fatigue Life')\n",
    "plt.ylabel('Scaled Stress Amplitude')\n",
    "plt.title('XG Actual vs Predicted')"
   ]
  },
  {
   "cell_type": "code",
   "execution_count": 75,
   "id": "4281ab1c",
   "metadata": {},
   "outputs": [
    {
     "data": {
      "text/plain": [
       "Text(0.5, 1.0, 'GB Actual vs Predicted')"
      ]
     },
     "execution_count": 75,
     "metadata": {},
     "output_type": "execute_result"
    },
    {
     "data": {
      "image/png": "[encoded data removed]",
      "text/plain": [
       "<Figure size 432x288 with 1 Axes>"
      ]
     },
     "metadata": {
      "needs_background": "light"
     },
     "output_type": "display_data"
    }
   ],
   "source": [
    "plt.scatter(Total_Data['Log Scale'],Total_Data['Stress Amplitude (Mpa)'])\n",
    "plt.scatter(grid_gb.predict(Total_Data[['Energy','Stress Amplitude (Mpa)']]),Total_Data['Stress Amplitude (Mpa)'],color = 'red')\n",
    "plt.xlabel('Log Scaled Fatigue Life')\n",
    "plt.ylabel('Scaled Stress Amplitude')\n",
    "plt.title('GB Actual vs Predicted')"
   ]
  },
  {
   "cell_type": "code",
   "execution_count": 76,
   "id": "f24527a9",
   "metadata": {},
   "outputs": [
    {
     "data": {
      "text/plain": [
       "Text(0.5, 1.0, 'KNN Actual vs Predicted')"
      ]
     },
     "execution_count": 76,
     "metadata": {},
     "output_type": "execute_result"
    },
    {
     "data": {
      "image/png": "[encoded data removed]",
      "text/plain": [
       "<Figure size 432x288 with 1 Axes>"
      ]
     },
     "metadata": {
      "needs_background": "light"
     },
     "output_type": "display_data"
    }
   ],
   "source": [
    "plt.scatter(Total_Data['Log Scale'],Total_Data['Stress Amplitude (Mpa)'])\n",
    "plt.scatter(estimator_knn.predict(Total_Data[['Energy','Stress Amplitude (Mpa)']]),Total_Data['Stress Amplitude (Mpa)'],color = 'red')\n",
    "plt.xlabel('Log Scaled Fatigue Life')\n",
    "plt.ylabel('Scaled Stress Amplitude')\n",
    "plt.title('KNN Actual vs Predicted')"
   ]
  },
  {
   "cell_type": "code",
   "execution_count": null,
   "id": "ab7689ee",
   "metadata": {},
   "outputs": [],
   "source": []
  }
 ],
 "metadata": {
  "kernelspec": {
   "display_name": "Python 3",
   "language": "python",
   "name": "python3"
  },
  "language_info": {
   "codemirror_mode": {
    "name": "ipython",
    "version": 3
   },
   "file_extension": ".py",
   "mimetype": "text/x-python",
   "name": "python",
   "nbconvert_exporter": "python",
   "pygments_lexer": "ipython3",
   "version": "3.8.8"
  }
 },
 "nbformat": 4,
 "nbformat_minor": 5
}
